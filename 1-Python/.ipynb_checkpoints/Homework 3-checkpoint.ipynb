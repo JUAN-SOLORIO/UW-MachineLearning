{
 "cells": [
  {
   "cell_type": "markdown",
   "metadata": {},
   "source": [
    "# Homework 3 - Logistic Regression\n",
    "## BIOST 558 Spring 2020 \n",
    "### Juan Solorio"
   ]
  },
  {
   "cell_type": "markdown",
   "metadata": {},
   "source": [
    "#### Module and Data Preparation"
   ]
  },
  {
   "cell_type": "code",
   "execution_count": 1,
   "metadata": {},
   "outputs": [],
   "source": [
    "# needed libraries\n",
    "\n",
    "# data manipulation\n",
    "import pandas as pd\n",
    "import numpy as np\n",
    "\n",
    "# Machine Learning\n",
    "from sklearn.model_selection import train_test_split\n",
    "from sklearn import preprocessing\n",
    "from sklearn import linear_model\n",
    "\n",
    "# visualization\n",
    "import matplotlib.pyplot as plt\n",
    "import seaborn as sns\n",
    "\n",
    "%matplotlib inline\n",
    "plt.style.use('ggplot')"
   ]
  },
  {
   "cell_type": "code",
   "execution_count": 2,
   "metadata": {},
   "outputs": [],
   "source": [
    "# Load the data\n",
    "spam = pd.read_table(\"https://web.stanford.edu/~hastie/ElemStatLearn/datasets/spam.data\",sep=\" \", header=None)\n",
    "spam['indicator'] = pd.read_table(\"https://web.stanford.edu/~hastie/ElemStatLearn/datasets/spam.traintest\",header=None) \n",
    "spam = spam.dropna()\n",
    "# Create our X matrix with the predictors and y vector with the response\n",
    "X = spam.drop(\"indicator\", axis=1)\n",
    "X = pd.get_dummies(X, drop_first=True)\n",
    "y = spam.indicator\n",
    "y.replace(0,-1,inplace=True)\n",
    "# Divide the data into training and test sets.\n",
    "X_train, X_test, y_train, y_test = train_test_split(X, y,random_state=0)\n",
    "# Standardize the data\n",
    "scaler = preprocessing.StandardScaler().fit(X_train)\n",
    "X_train = scaler.transform(X_train)\n",
    "X_test = scaler.transform(X_test)\n",
    "scaler = preprocessing.StandardScaler().fit(y_train.values.reshape(-1, 1))\n",
    "# y_train = scaler.transform(y_train.values.reshape(-1, 1)).reshape((-1))\n",
    "# y_test = scaler.transform(y_test.values.reshape(-1, 1)).reshape((-1))\n"
   ]
  },
  {
   "cell_type": "markdown",
   "metadata": {},
   "source": [
    "### Exercise 1 \n",
    "#### Logistic Regression Theory\n",
    "\n",
    "For Logistic Regression we have the objective equation to minimize:\n",
    "\n",
    "\\begin{equation}\n",
    "\\min_{\\beta}F(\\beta) = \\frac{1}{n}\\sum_{i=1}^n log(1 + exp^{-y_ix^T_i\\beta}) + \\lambda\\|\\beta\\|^2_2\n",
    "\\end{equation}\n",
    "\n",
    "or equivalently\n",
    "\n",
    "\\begin{equation}\n",
    "\\min_{\\beta}F(\\beta) = \\frac{1}{n}\\sum_{i=1}^n log(1 + exp^{-y_i\\sum^d_{j=1}x^T_{i,j}\\beta_j}) + \\lambda\\sum_{j=1}^d\\beta_j^2\n",
    "\\end{equation}\n",
    "\n",
    "Using the machine learning convention for the labels that is $y_i\\ \\in$ {−1, +1}\n",
    "\n",
    "Assuming $d=1$ and $n=1$, we can compute the $\\nabla F$ as follows:\n",
    "\n",
    "\\begin{equation}\n",
    "F(\\beta) = log(1 + exp^{-yx\\beta}) + \\lambda\\beta^2\n",
    "\\end{equation}\n",
    "\\begin{equation}\n",
    "\\Rightarrow \\frac{\\partial F}{\\partial \\beta} = \\frac{(-yx)exp^{-yxb}}{(1 + exp^{-yx\\beta})} + 2\\lambda\\beta\n",
    "\\end{equation}\n",
    "\\begin{equation}\n",
    "\\Rightarrow \\nabla F(\\beta) = 2\\lambda \\beta - \\frac{yx}{(1 + exp^{-yx\\beta})* exp^{yx\\beta}}\n",
    "\\end{equation}\n",
    "\\begin{equation}\n",
    "\\Rightarrow \\nabla F(\\beta) = 2\\lambda \\beta - \\frac{yx}{exp^{yx\\beta} + 1}\n",
    "\\end{equation}\n",
    "\n",
    "\n",
    "##### Function Definition"
   ]
  },
  {
   "cell_type": "code",
   "execution_count": 35,
   "metadata": {},
   "outputs": [],
   "source": [
    "def Fx_logisticReg(b, lamda=0.5,X=X_train,y=y_train):\n",
    "    h = X @ b * y\n",
    "    return (1/len(y)) * sum(np.log(1 + np.exp(-h))) + (lamda * np.linalg.norm(b)**2)"
   ]
  },
  {
   "cell_type": "code",
   "execution_count": 36,
   "metadata": {},
   "outputs": [],
   "source": [
    "def computegrad(b, lamda,X=X_train,y=y_train):\n",
    "    h = X @ b * y \n",
    "    return 2*lamda*b - (1/len(y) * (X.T @ (y / (np.exp(h) + 1)))) "
   ]
  },
  {
   "cell_type": "code",
   "execution_count": 135,
   "metadata": {},
   "outputs": [],
   "source": [
    "def backtracking(beta, grad, eta_0,lamda,alpha=0.5,gamma=0.8):\n",
    "    #F(B_t − η∇F(B_t)) ≤ F(B_t) + αη||∇F(B_t)||^2\n",
    "    eta_l = eta_0\n",
    "    while Fx_logisticReg(beta - eta_l * grad,lamda=lamda) > (Fx_logisticReg(beta,lamda=lamda) + alpha * eta_l * np.linalg.norm(grad)**2):\n",
    "        eta_l = gamma * eta_l\n",
    "    return eta_l"
   ]
  },
  {
   "cell_type": "code",
   "execution_count": 136,
   "metadata": {},
   "outputs": [],
   "source": [
    "def graddescent(beta_init,eta_0,epsilon,lamda,X=X_train,y=y_train):\n",
    "    eta_l = eta_0\n",
    "    beta = beta_init\n",
    "    grad_beta = computegrad(beta,lamda=lamda)\n",
    "    fx = Fx_logisticReg(beta,lamda=lamda)\n",
    "    fx_vals = [fx]\n",
    "    beta_vals = [beta]\n",
    "    grad_vals = [grad_beta]\n",
    "    while np.linalg.norm(grad_beta) > epsilon:\n",
    "        eta_l = backtracking(beta,grad_beta,eta_l,lamda=lamda)\n",
    "        beta = beta - eta_l * grad_beta\n",
    "        beta_vals.append(beta)\n",
    "        grad_beta = computegrad(beta,lamda=lamda)\n",
    "        grad_vals.append(grad_beta)\n",
    "        fx = Fx_logisticReg(beta,lamda=lamda)\n",
    "        fx_vals.append(fx)\n",
    "    return [beta_vals,grad_vals,fx_vals]"
   ]
  },
  {
   "cell_type": "code",
   "execution_count": 137,
   "metadata": {},
   "outputs": [],
   "source": [
    "def fastgradalgo(eta_0,epsilon,lamda,beta_init=np.zeros(X_train.shape[1]),theta_init=np.zeros(X_train.shape[1])):\n",
    "    eta_l = eta_0\n",
    "    beta = beta_init\n",
    "    theta = theta_init\n",
    "    grad = computegrad(theta,lamda=lamda)\n",
    "    fx = Fx_logisticReg(beta,lamda=lamda)\n",
    "    fx_vals = [fx]\n",
    "    beta_vals = [beta]\n",
    "    grad_vals = [grad]\n",
    "    iter_val = 1\n",
    "    while np.linalg.norm(grad) > epsilon and iter_val < 100:\n",
    "        eta_l = backtracking(beta,grad,eta_l,lamda=lamda)\n",
    "        beta = theta - eta_l * grad\n",
    "        theta = beta + (iter_val/(iter_val+3)) * (beta - beta_vals[iter_val-1])\n",
    "        beta_vals.append(beta)\n",
    "        grad = computegrad(theta,lamda=lamda)\n",
    "        grad_vals.append(grad)\n",
    "        fx = Fx_logisticReg(beta,lamda=lamda)\n",
    "        fx_vals.append(fx)\n",
    "    return [beta_vals,grad_vals,fx_vals]"
   ]
  },
  {
   "cell_type": "code",
   "execution_count": 138,
   "metadata": {},
   "outputs": [],
   "source": [
    "# Variable to load into functions\n",
    "lamda = 0.5\n",
    "L = (np.max(np.linalg.eig(1/len(y_train)*X_train.T@X_train)[0])) + lamda\n",
    "eta_0 = 1/L\n",
    "d = X_train.shape[1]\n",
    "beta_init = np.zeros(d)"
   ]
  },
  {
   "cell_type": "code",
   "execution_count": 139,
   "metadata": {},
   "outputs": [],
   "source": [
    "# Initializing gradient decent and fast algorithm grad descent\n",
    "graddesc = graddescent(beta_init,eta_0,epsilon=0.005,lamda=0.5)\n",
    "fastAlgo = fastgradalgo(eta_0,epsilon=0.005,lamda=0.5)"
   ]
  },
  {
   "cell_type": "code",
   "execution_count": 142,
   "metadata": {},
   "outputs": [
    {
     "data": {
      "image/png": "[encoded data removed]",
      "text/plain": [
       "<Figure size 432x288 with 1 Axes>"
      ]
     },
     "metadata": {},
     "output_type": "display_data"
    }
   ],
   "source": [
    "# Plotting of the objective function Fx_LogisticReg for each of the gradient descent algorithms\n",
    "plt.scatter(x=np.array(range(len(graddesc[2]))),y=graddesc[2])\n",
    "plt.scatter(x=np.array(range(len(fastAlgo[2]))),y=fastAlgo[2])\n",
    "plt.ylim(min(graddesc[2])*.9999,max(graddesc[2])*1.0001)\n",
    "plt.legend([\"grad\",\"fastalgo\"])\n",
    "plt.title(r'F($\\beta$) for each Descent Algorithm')\n",
    "plt.show()"
   ]
  },
  {
   "cell_type": "markdown",
   "metadata": {},
   "source": [
    "From the plot we can see that both value converge to about the value 0.6919, but the $fastAlgo$ reaches this \n",
    "point at a much faster rate compared the simple $grad$ algorithm.\n",
    "\n",
    "##### Comparing $fastAlgo$ to values from *$sklearn$*\n",
    "\n",
    "The model from the $sklearn.linear\\_model.LogisticRegression$ is provided as:\n",
    "\\begin{equation}\n",
    "\\min_{w,c} \\frac{1}{2}\\omega^T\\omega + C\\sum_{i=1}^n log(exp(-y_i(X^T_i\\omega + c)) + 1)\n",
    "\\end{equation}\n",
    "\n",
    "comparing this to our Logistic Regression function for $F(\\beta)$, we can see that the constant $C$ from *sklearn*'s **LogisticRegression** function correlates to our $\\lambda$ parameter as\n",
    "\\begin{equation}\n",
    "C = \\frac{1}{2n\\lambda}\n",
    "\\end{equation}\n"
   ]
  },
  {
   "cell_type": "code",
   "execution_count": 143,
   "metadata": {},
   "outputs": [],
   "source": [
    "# setting the value for \"C\" to pass to sklearn\n",
    "c = 1/(2*lamda*(X_train.shape[0]))\n",
    "\n",
    "# sklearn Ridge regression betas\n",
    "logReg = linear_model.LogisticRegression(C=c)\n",
    "model = logReg.fit(X_train,y_train)\n",
    "betas_skl = model.coef_[0]\n",
    "\n",
    "# Beta found through fastalgo model\n",
    "betas = np.array(fastAlgo[0])[-1]"
   ]
  },
  {
   "cell_type": "code",
   "execution_count": 144,
   "metadata": {},
   "outputs": [
    {
     "data": {
      "text/plain": [
       "(0.6920245806732075, 0.6921034629417837)"
      ]
     },
     "execution_count": 144,
     "metadata": {},
     "output_type": "execute_result"
    }
   ],
   "source": [
    "# Comparing the values for the objective function from sklearn vs fastalgo\n",
    "Fx_logisticReg(betas_skl), Fx_logisticReg(betas)"
   ]
  },
  {
   "cell_type": "markdown",
   "metadata": {},
   "source": [
    "We can see that when we compare the values for $\\beta^*$ vs $\\beta_T$ by feeding them into the objective function **Fx_logisticReg**, the values calculated are very close between both.\n",
    "\n",
    "\n",
    "If we then try to get a value for the optimal $\\lambda$ by using *sklearn.linear_model.LogisticRegressionCV*. We can feed the new value of $\\lambda$ to our **graddecent** and **fastdescalgo** and plot them as follows."
   ]
  },
  {
   "cell_type": "code",
   "execution_count": 145,
   "metadata": {},
   "outputs": [
    {
     "data": {
      "text/plain": [
       "array([0.00077426])"
      ]
     },
     "execution_count": 145,
     "metadata": {},
     "output_type": "execute_result"
    }
   ],
   "source": [
    "# using the 'CrossValidation' function for Logistic Regression from sklearn\n",
    "logregCV = linear_model.LogisticRegressionCV()\n",
    "fit = logregCV.fit(X_train,y_train)\n",
    "fit.C_  # optimize value for lambda"
   ]
  },
  {
   "cell_type": "code",
   "execution_count": 146,
   "metadata": {},
   "outputs": [
    {
     "data": {
      "text/plain": [
       "array([0.37436222])"
      ]
     },
     "execution_count": 146,
     "metadata": {},
     "output_type": "execute_result"
    }
   ],
   "source": [
    "lamduh = 1/(fit.C_*(X_train.shape[0]))\n",
    "lamduh "
   ]
  },
  {
   "cell_type": "code",
   "execution_count": 151,
   "metadata": {},
   "outputs": [],
   "source": [
    "# providing the optimize value for lamda into the gradient functions\n",
    "g_opt = graddescent(beta_init,eta_0,epsilon=0.005,lamda=lamduh)\n",
    "f_opt = fastgradalgo(eta_0,epsilon=0.005,lamda=lamduh)"
   ]
  },
  {
   "cell_type": "code",
   "execution_count": 152,
   "metadata": {},
   "outputs": [
    {
     "data": {
      "image/png": "[encoded data removed]",
      "text/plain": [
       "<Figure size 432x288 with 1 Axes>"
      ]
     },
     "metadata": {},
     "output_type": "display_data"
    }
   ],
   "source": [
    "# Plotting of the objective function Fx_LogisticReg for each of the gradient descent algorithms\n",
    "plt.scatter(x=np.array(range(len(g_opt[2]))),y=g_opt[2])\n",
    "plt.scatter(x=np.array(range(len(f_opt[2]))),y=f_opt[2])\n",
    "plt.ylim(min(g_opt[2])*.9999,max(g_opt[2])*1.0001)\n",
    "plt.legend([\"grad\",\"fastalgo\"])\n",
    "plt.title(r'F($\\beta$) for each Descent Algorithm with optimized $\\lambda$')\n",
    "plt.show()"
   ]
  },
  {
   "cell_type": "markdown",
   "metadata": {},
   "source": [
    "When we compare the plots for the $\\lambda_{optimized}$ vs $\\lambda = 0.5$, we can see that the optimized plot has a steeper deccent."
   ]
  },
  {
   "cell_type": "code",
   "execution_count": 153,
   "metadata": {},
   "outputs": [],
   "source": [
    "def logit_model(b,X=X_train):\n",
    "    fx = np.exp(X @ b)\n",
    "    return fx/(1 + fx)"
   ]
  },
  {
   "cell_type": "code",
   "execution_count": 154,
   "metadata": {},
   "outputs": [],
   "source": [
    "# Beta found through fastalgo model\n",
    "beta_f = np.array(f_opt[0])\n",
    "beta_g = np.array(g_opt[0])\n",
    "p_valF = []\n",
    "p_valG = []\n",
    "for b in beta_f:\n",
    "    y_calTrain = logit_model(b) > .5\n",
    "    y_calTest = logit_model(b, X= X_test) > .5\n",
    "    p_valF.append([np.average(y_calTrain != y_train),np.average(y_calTest != y_test)])\n",
    "for b in beta_g:\n",
    "    y_calTrain = logit_model(b) > .5\n",
    "    y_calTest = logit_model(b, X= X_test) > .5\n",
    "    p_valG.append([np.average(y_calTrain != y_train),np.average(y_calTest != y_test)])\n",
    "p_valF = np.array(p_valF)\n",
    "p_valG = np.array(p_valG)"
   ]
  },
  {
   "cell_type": "code",
   "execution_count": 155,
   "metadata": {},
   "outputs": [
    {
     "data": {
      "image/png": "[encoded data removed]",
      "text/plain": [
       "<Figure size 432x288 with 1 Axes>"
      ]
     },
     "metadata": {},
     "output_type": "display_data"
    }
   ],
   "source": [
    "plt.scatter(x=np.array(range(len(p_valG))),y=p_valG[:,0])\n",
    "plt.scatter(x=np.array(range(len(p_valF))),y=p_valF[:,0])\n",
    "plt.scatter(x=np.array(range(len(p_valG))),y=p_valG[:,1])\n",
    "plt.scatter(x=np.array(range(len(p_valF))),y=p_valF[:,1])\n",
    "plt.legend([\"grad Train\",\"fastalgo Train\",\"grad Test\",\"fastalgo Test\"])\n",
    "plt.title(r'Misclassification error for Train and Test sets')\n",
    "plt.show()\n",
    "plt.show()"
   ]
  },
  {
   "cell_type": "code",
   "execution_count": 156,
   "metadata": {},
   "outputs": [
    {
     "name": "stdout",
     "output_type": "stream",
     "text": [
      "              precision    recall  f1-score   support\n",
      "\n",
      "          -1       0.66      1.00      0.80       761\n",
      "           1       0.00      0.00      0.00       390\n",
      "\n",
      "    accuracy                           0.66      1151\n",
      "   macro avg       0.33      0.50      0.40      1151\n",
      "weighted avg       0.44      0.66      0.53      1151\n",
      "\n"
     ]
    },
    {
     "name": "stderr",
     "output_type": "stream",
     "text": [
      "/home/juansolo/venv/lib/python3.6/site-packages/sklearn/metrics/_classification.py:1272: UndefinedMetricWarning: Precision and F-score are ill-defined and being set to 0.0 in labels with no predicted samples. Use `zero_division` parameter to control this behavior.\n",
      "  _warn_prf(average, modifier, msg_start, len(result))\n"
     ]
    }
   ],
   "source": [
    "predictions = model.predict(X_test)\n",
    "from sklearn.metrics import classification_report\n",
    "print(classification_report(y_test,predictions))"
   ]
  },
  {
   "cell_type": "markdown",
   "metadata": {},
   "source": [
    "What we can see from the plot for the misclassification error is that the test set is lower than the training set as well as the **graddescent** having a better value."
   ]
  },
  {
   "cell_type": "code",
   "execution_count": 162,
   "metadata": {},
   "outputs": [
    {
     "name": "stderr",
     "output_type": "stream",
     "text": [
      "/home/juansolo/venv/lib/python3.6/site-packages/ipykernel_launcher.py:3: RuntimeWarning: invalid value encountered in double_scalars\n",
      "  This is separate from the ipykernel package so we can avoid doing imports until\n",
      "/home/juansolo/venv/lib/python3.6/site-packages/ipykernel_launcher.py:2: RuntimeWarning: overflow encountered in matmul\n",
      "  \n"
     ]
    },
    {
     "data": {
      "image/png": "[encoded data removed]",
      "text/plain": [
       "<Figure size 432x288 with 1 Axes>"
      ]
     },
     "metadata": {},
     "output_type": "display_data"
    }
   ],
   "source": [
    "for i in range(0,7,1):\n",
    "    f_opt = fastgradalgo(eta_0,epsilon=0.005,lamda=i/10)\n",
    "    plt.scatter(x=np.array(range(len(f_opt[2]))),y=f_opt[2])\n",
    "    \n",
    "plt.show()"
   ]
  },
  {
   "cell_type": "markdown",
   "metadata": {},
   "source": [
    "### Question 2\n",
    "#### Effect of $\\lambda$ on misclassification error"
   ]
  },
  {
   "cell_type": "markdown",
   "metadata": {},
   "source": [
    "- a) For $\\lambda$ changing in a training set, the misclassification error will follow option (ii) Decreasing initially to then increase in a U shape. This is due to the model reaching a minimum level for the misclassification as the model is optimized to no over or underfit.\n",
    "- b) For $\\lambda$ changing in a test set, the misclassification error will follow option (vi), as we are following the assumption the test data follows the same distribution as the train set but this might not be the case."
   ]
  }
 ],
 "metadata": {
  "kernelspec": {
   "display_name": "Python 3",
   "language": "python",
   "name": "python3"
  },
  "language_info": {
   "codemirror_mode": {
    "name": "ipython",
    "version": 3
   },
   "file_extension": ".py",
   "mimetype": "text/x-python",
   "name": "python",
   "nbconvert_exporter": "python",
   "pygments_lexer": "ipython3",
   "version": "3.6.9"
  }
 },
 "nbformat": 4,
 "nbformat_minor": 2
}

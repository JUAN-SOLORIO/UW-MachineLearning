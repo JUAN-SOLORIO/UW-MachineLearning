{
 "cells": [
  {
   "cell_type": "markdown",
   "metadata": {},
   "source": [
    "# Homework 7 - Part 1: LASSO Regression\n",
    "## BIOST 558 Spring 2020\n",
    "### Juan Solorio"
   ]
  },
  {
   "cell_type": "code",
   "execution_count": 1,
   "metadata": {},
   "outputs": [],
   "source": [
    "# needed libraries\n",
    "\n",
    "# vizualization\n",
    "import matplotlib.pyplot as plt\n",
    "\n",
    "# data wrangling and math\n",
    "import pandas as pd\n",
    "import numpy as np\n",
    "\n",
    "# machine learing\n",
    "from sklearn.model_selection import train_test_split\n",
    "from sklearn import preprocessing\n",
    "from sklearn import linear_model\n",
    "\n",
    "\n",
    "%matplotlib inline\n",
    "plt.style.use('ggplot')"
   ]
  },
  {
   "cell_type": "code",
   "execution_count": 2,
   "metadata": {},
   "outputs": [],
   "source": [
    "# Load the data\n",
    "hitters = pd.read_csv('https://raw.githubusercontent.com/selva86/datasets/master/Hitters.csv',\n",
    "                      sep=',', header=0)\n",
    "hitters = hitters.dropna()\n",
    "X = hitters.drop('Salary', axis=1) \n",
    "X = pd.get_dummies(X, drop_first=True) \n",
    "y = hitters.Salary\n",
    "\n",
    "def standarize_data(X,y):\n",
    "    \"\"\"\n",
    "    Function to train test split and standarize the data\n",
    "    \"\"\"\n",
    "    x_train, x_test, y_train, y_test = train_test_split(X, y, random_state=0)\n",
    "    \n",
    "    xmean = np.mean(x_train, axis=0)\n",
    "    xsdev = np.std(x_train, axis=0)\n",
    "    ymean = np.mean(y_train, axis=0)\n",
    "    ysdev = np.std(y_train, axis=0)\n",
    "    x_train = (x_train - xmean)/xsdev[np.newaxis, :]\n",
    "    x_test = (x_test - xmean)/xsdev[np.newaxis, :]\n",
    "    y_train= (y_train - ymean)/ysdev\n",
    "    y_test = (y_test - ymean)/ysdev\n",
    "    \n",
    "    return np.array(x_train), np.array(y_train), np.array(x_test), np.array(y_test)\n",
    "\n",
    "x_train, y_train, x_test, y_test = standarize_data(X=X, y=y)"
   ]
  },
  {
   "cell_type": "markdown",
   "metadata": {},
   "source": [
    "### LASSO\n",
    "#### Theory\n",
    "\n",
    "For LASSO regression, we have the $l_1$-regularized least-square regression defined as:\n",
    "\n",
    "\\begin{equation}\n",
    "\\min_{\\beta}F(\\beta) = \\frac{1}{2n}\\sum_{i=1}^n(y_i - x^T_i\\beta)^2 + \\lambda\\|\\beta\\|_1\n",
    "\\end{equation}\n",
    "\n",
    "assuming we have $n=d=1$, the sum then becomes\n",
    "\n",
    "\\begin{equation}\n",
    "F(\\beta) = \\frac{1}{2}(y - x\\beta)^2 + \\lambda|\\beta|\n",
    "\\end{equation}\n",
    "\n",
    "We can then take the derivative of $F(\\beta)$ with respect to $\\beta$ and solve the equation:\n",
    "\n",
    "\\begin{equation}\n",
    "\\frac{dF}{d\\beta} = -x(y - x\\beta) + \\lambda \\\\\n",
    "\\Rightarrow x^2\\beta + \\lambda - yx = 0 \\\\\n",
    "\\Rightarrow \\beta = \\frac{xy-\\lambda}{x^2}\n",
    "\\end{equation}\n",
    "\n",
    "From the derivative we get the piece wise function for $\\beta$:\n",
    "\n",
    "$$ \\beta(c)=   \\left\\{\n",
    "\\begin{array}{ll}\n",
    "      c+\\lambda & if\\ \\ c < -\\lambda \\\\\n",
    "      c-\\lambda & if\\ \\ c > +\\lambda \\\\\n",
    "      0 & if\\ \\ |c| \\leq \\lambda\n",
    "\\end{array} \n",
    "\\right.  $$\n",
    "\n",
    "\n",
    "\n",
    "$$ \\beta(c)=   \\left\\{\n",
    "\\begin{array}{ll}\n",
    "      \\frac{c+\\lambda}{a} & if\\ \\ c < -\\lambda \\\\\n",
    "      \\frac{c-\\lambda}{a} & if\\ \\ c > +\\lambda \\\\\n",
    "      0 & if\\ \\ |c| \\leq \\lambda\n",
    "\\end{array} \n",
    "\\right.  $$"
   ]
  },
  {
   "cell_type": "code",
   "execution_count": 3,
   "metadata": {},
   "outputs": [],
   "source": [
    "def beta_stepwise(xy, lamda):\n",
    "    if xy < -lamda:\n",
    "        numerator = xy + lamda\n",
    "    elif xy > lamda:\n",
    "        numerator = xy - lamda\n",
    "    else:\n",
    "        numerator = 0\n",
    "    return numerator"
   ]
  },
  {
   "cell_type": "code",
   "execution_count": 6,
   "metadata": {},
   "outputs": [
    {
     "data": {
      "image/png": "[encoded data removed]",
      "text/plain": [
       "<Figure size 432x288 with 1 Axes>"
      ]
     },
     "metadata": {},
     "output_type": "display_data"
    }
   ],
   "source": [
    "xplot = np.linspace(-5,5,50)\n",
    "lamda = 0.5\n",
    "y_Fx = [beta_stepwise(xi,lamda) for xi in xplot ]\n",
    "plt.plot(xplot, y_Fx)\n",
    "plt.title(r'Basic Plot of $F(\\beta)$')\n",
    "plt.show()"
   ]
  },
  {
   "cell_type": "markdown",
   "metadata": {},
   "source": [
    "We can then take this basic derivation for $n=d=1$ and implement it for $n>1\\ ,\\ d>1$. In Matrix Notation, we can take the gradient of $F(\\beta)$ with respect to $\\beta$ as follows:\n",
    "\\begin{equation}\n",
    "F(\\beta) = (Y - X\\beta)^T(Y-X\\beta) + \\lambda\\beta\n",
    "\\end{equation}\n",
    "\\begin{equation}\n",
    "= Y^TY - \\beta^TX^TY-Y^TX\\beta+\\beta^TX^TX\\beta+\\lambda\\beta\n",
    "\\end{equation}\n",
    "\\begin{equation}\n",
    "= Y^TY - 2\\beta^TX^TY+\\beta^TX^TX\\beta+\\lambda\\beta \\\\\n",
    "\\end{equation}\n",
    "\\begin{equation}\n",
    "\\nabla_\\beta F(\\beta)= -X^TY + X^TX\\beta + \\lambda \\\\\n",
    "\\Rightarrow \\beta = \\frac{X^TY - \\lambda}{X^TX}\n",
    "\\end{equation}\n",
    "\n",
    "From here, we can take the previous piece wise function for $\\beta$ and expand to define $c$ and $a$ as:\n",
    "$$ \\beta(c_j)=   \\left\\{\n",
    "\\begin{array}{ll}\n",
    "      \\frac{c_j+\\lambda}{a_j} & if\\ \\ c_j < -\\lambda \\\\\n",
    "      \\frac{c_j-\\lambda}{a_j} & if\\ \\ c_j > +\\lambda \\\\\n",
    "      0 & if\\ \\ |c_j| \\leq \\lambda\n",
    "\\end{array} \n",
    "\\right.  $$\n",
    "\n",
    "\\begin{equation}\n",
    "a_j = \\sum_{i=1}^nx^2_{i,j} \\ \\  \\ \\ \\ \\ c_j=\\sum_{i=1}^nx_{i,j}(y_i-x^T_{i,-j}\\beta_j) \n",
    "\\end{equation}"
   ]
  },
  {
   "cell_type": "code",
   "execution_count": 7,
   "metadata": {},
   "outputs": [],
   "source": [
    "def Fx_min_beta(b, j, X, y, lamda):\n",
    "    n, d = X.shape\n",
    "    j_i = [i for i in range(d) if i != j ]\n",
    "    \n",
    "    c_j = X[:, j] @ (y[:, np.newaxis] - X[:, j_i] @ b[:, np.newaxis][j_i, :])\n",
    "    a_j = np.linalg.norm(X[:,j])**2\n",
    "    \n",
    "    r = beta_stepwise(xy=c_j, lamda=lamda*n/2)\n",
    "    \n",
    "    return r/a_j"
   ]
  },
  {
   "cell_type": "code",
   "execution_count": 8,
   "metadata": {},
   "outputs": [],
   "source": [
    "def computeobj(b, lamda, X, y):\n",
    "    \n",
    "    n, d = X.shape\n",
    "    penalty = lamda*np.linalg.norm(b)\n",
    "    \n",
    "    return (1/(2*n)) * np.sum((y - (X @ b))**2) - penalty\n",
    "    "
   ]
  },
  {
   "cell_type": "code",
   "execution_count": 9,
   "metadata": {},
   "outputs": [],
   "source": [
    "def cycliccoorddescet(beta_init, X, y, lamda, max_iter):\n",
    "    n, d = X.shape\n",
    "    beta = beta_init\n",
    "    beta_vals = beta\n",
    "    for i in range(max_iter):\n",
    "        for j in range(d):\n",
    "            beta_j = Fx_min_beta(b=beta, j=j, X=X, y=y, lamda=lamda)\n",
    "            beta[j] = beta_j\n",
    "        beta_vals = np.vstack((beta_vals, beta))\n",
    "    return beta_vals"
   ]
  },
  {
   "cell_type": "code",
   "execution_count": 10,
   "metadata": {},
   "outputs": [],
   "source": [
    "def pickcoord(d, j):\n",
    "    num = np.random.randint(0,d)\n",
    "    while num == j:\n",
    "        num = np.random.randint(0,d)\n",
    "    return num"
   ]
  },
  {
   "cell_type": "code",
   "execution_count": 11,
   "metadata": {},
   "outputs": [],
   "source": [
    "def randcoorddescent(beta_init, X, y, lamda, max_iter):\n",
    "    n, d = X.shape\n",
    "    beta = np.copy(beta_init)\n",
    "    beta_vals = beta\n",
    "    for i in range(max_iter):\n",
    "        j = 1\n",
    "        for k in range(d):\n",
    "            j = pickcoord(d, j)\n",
    "            beta_j = Fx_min_beta(b=beta, j=j, X=X, y=y, lamda=lamda)\n",
    "            beta[j] = beta_j\n",
    "        beta_vals = np.vstack((beta_vals, beta))\n",
    "    return beta_vals"
   ]
  },
  {
   "cell_type": "code",
   "execution_count": 12,
   "metadata": {},
   "outputs": [],
   "source": [
    "def compute_correct_zero_nonzero(b_own, b_skl, non_zero=False):\n",
    "    num_iter = len(b_skl)\n",
    "    own = 0\n",
    "    skl = 0\n",
    "    for n in range(num_iter):\n",
    "        if non_zero == False:\n",
    "            if b_skl[n] == 0:\n",
    "                skl += 1\n",
    "                if b_own[n] == 0:\n",
    "                    own += 1\n",
    "        else:\n",
    "            if b_skl[n] != 0:\n",
    "                skl += 1\n",
    "                if b_own[n] != 0:\n",
    "                    own += 1\n",
    "                        \n",
    "    return own/skl"
   ]
  },
  {
   "cell_type": "code",
   "execution_count": 18,
   "metadata": {},
   "outputs": [],
   "source": [
    "n, d = x_train.shape\n",
    "betas_init = np.zeros(d)\n",
    "lasso_cv = linear_model.LassoCV(cv=10, random_state=0,fit_intercept=False,max_iter=1000)\n",
    "lasso_cv.fit(x_train, y_train)\n",
    "\n",
    "optimal_lambda = 2*lasso_cv.alpha_\n",
    "beta_skl = lasso_cv.coef_\n",
    "\n",
    "\n",
    "betas_cyclic = cycliccoorddescet(beta_init=betas_init, X=x_train, y=y_train, lamda=optimal_lambda, max_iter=1000)\n",
    "betas_random = randcoorddescent(beta_init=betas_init, X=x_train, y=y_train, lamda=optimal_lambda, max_iter=1000)\n"
   ]
  },
  {
   "cell_type": "code",
   "execution_count": 19,
   "metadata": {},
   "outputs": [
    {
     "data": {
      "text/plain": [
       "(array([-0.40178734,  0.44817461,  0.09057008,  0.        ,  0.01092209,\n",
       "         0.24231362, -0.06912608,  0.        ,  0.38853311,  0.        ,\n",
       "         0.35260131,  0.        , -0.29704019,  0.13550563,  0.04299316,\n",
       "        -0.05854589,  0.0261108 , -0.12125553,  0.        ]),\n",
       " array([-0.40178734,  0.44817461,  0.09057008,  0.        ,  0.01092209,\n",
       "         0.24231362, -0.06912608,  0.        ,  0.38853311,  0.        ,\n",
       "         0.35260131,  0.        , -0.29704019,  0.13550563,  0.04299316,\n",
       "        -0.05854589,  0.0261108 , -0.12125553,  0.        ]),\n",
       " array([-0.40151056,  0.44792634,  0.09077503, -0.        ,  0.01070252,\n",
       "         0.24238375, -0.06950319, -0.        ,  0.39076738, -0.        ,\n",
       "         0.35045337,  0.        , -0.29676259,  0.13544564,  0.04297573,\n",
       "        -0.05859965,  0.0260473 , -0.12133111,  0.        ]))"
      ]
     },
     "execution_count": 19,
     "metadata": {},
     "output_type": "execute_result"
    }
   ],
   "source": [
    "betas_cyclic[-1], betas_random[-1], beta_skl"
   ]
  },
  {
   "cell_type": "code",
   "execution_count": 20,
   "metadata": {},
   "outputs": [
    {
     "data": {
      "image/png": "[encoded data removed]",
      "text/plain": [
       "<Figure size 432x288 with 1 Axes>"
      ]
     },
     "metadata": {},
     "output_type": "display_data"
    }
   ],
   "source": [
    "n_b, d_b = betas_cyclic.shape\n",
    "\n",
    "obj_cyclic = np.zeros(n_b)\n",
    "obj_random = np.zeros(n_b)\n",
    "\n",
    "for i in range(n_b):\n",
    "    obj_cyclic[i] = computeobj(b=betas_cyclic[i], lamda=optimal_lambda,X=x_train, y=y_train)\n",
    "    obj_random[i] = computeobj(b=betas_random[i], lamda=optimal_lambda, X=x_train, y=y_train)\n",
    "    \n",
    "fig, ax = plt.subplots()\n",
    "ax.plot(range(1, n_b + 1), obj_cyclic, c='blue', label='Cyclic', linewidth=3.0, linestyle='dashed')\n",
    "ax.plot(range(1, n_b + 1), obj_random, c='red', label='Random')\n",
    "plt.xlabel('Iteration')\n",
    "plt.ylabel('Objective')\n",
    "plt.legend()\n",
    "plt.show()"
   ]
  },
  {
   "cell_type": "code",
   "execution_count": 16,
   "metadata": {},
   "outputs": [
    {
     "data": {
      "image/png": "[encoded data removed]",
      "text/plain": [
       "<Figure size 432x288 with 1 Axes>"
      ]
     },
     "metadata": {},
     "output_type": "display_data"
    }
   ],
   "source": [
    "cyclic_zero = np.zeros(n_b)\n",
    "random_zero = np.zeros(n_b)\n",
    "\n",
    "for i in range(n_b):\n",
    "    cyclic_zero[i] = compute_correct_zero_nonzero(b_own=betas_cyclic[i],b_skl=beta_skl,non_zero=False)\n",
    "    random_zero[i] = compute_correct_zero_nonzero(b_own=betas_random[i],b_skl=beta_skl,non_zero=False)\n",
    "    \n",
    "    \n",
    "fig, ax = plt.subplots()\n",
    "ax.plot(range(1, n_b + 1), cyclic_zero, c='blue', label='Cyclic', linewidth=3.0, linestyle='dashed')\n",
    "ax.plot(range(1, n_b + 1), random_zero, c='red', label='Random')\n",
    "plt.xlabel('Iteration')\n",
    "plt.ylabel('Fraction of Correct Zero')\n",
    "plt.legend()\n",
    "plt.show()"
   ]
  },
  {
   "cell_type": "code",
   "execution_count": 17,
   "metadata": {},
   "outputs": [
    {
     "data": {
      "image/png": "[encoded data removed]",
      "text/plain": [
       "<Figure size 432x288 with 1 Axes>"
      ]
     },
     "metadata": {},
     "output_type": "display_data"
    }
   ],
   "source": [
    "cyclic_nonzero = np.zeros(n_b)\n",
    "random_nonzero = np.zeros(n_b)\n",
    "for i in range(n_b):\n",
    "    cyclic_nonzero[i] = compute_correct_zero_nonzero(b_own=betas_cyclic[i,:],b_skl=beta_skl,non_zero=True)\n",
    "    random_nonzero[i] = compute_correct_zero_nonzero(b_own=betas_random[i,:],b_skl=beta_skl,non_zero=True)\n",
    "    \n",
    "fig, ax = plt.subplots()\n",
    "ax.plot(range(1, n_b + 1), cyclic_nonzero, c='blue', label='Cyclic', linewidth=3.0, linestyle='dashed')\n",
    "ax.plot(range(1, n_b + 1), random_nonzero, c='red', label='Random')\n",
    "plt.xlabel('Iteration')\n",
    "plt.ylabel('Fraction of Correct Non-Zero')\n",
    "plt.legend()\n",
    "plt.show()"
   ]
  }
 ],
 "metadata": {
  "kernelspec": {
   "display_name": "Python 3",
   "language": "python",
   "name": "python3"
  },
  "language_info": {
   "codemirror_mode": {
    "name": "ipython",
    "version": 3
   },
   "file_extension": ".py",
   "mimetype": "text/x-python",
   "name": "python",
   "nbconvert_exporter": "python",
   "pygments_lexer": "ipython3",
   "version": "3.7.7"
  }
 },
 "nbformat": 4,
 "nbformat_minor": 4
}

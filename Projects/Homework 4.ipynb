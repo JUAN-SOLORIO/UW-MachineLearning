{
 "cells": [
  {
   "cell_type": "markdown",
   "metadata": {},
   "source": [
    "# Homework 4 - Linear SVM with Huberdize Hinge Loss\n",
    "## BIOST 558 Spring 2020 \n",
    "### Juan Solorio\n"
   ]
  },
  {
   "cell_type": "markdown",
   "metadata": {},
   "source": [
    "#### Module and Data Preparation"
   ]
  },
  {
   "cell_type": "code",
   "execution_count": 2,
   "metadata": {},
   "outputs": [],
   "source": [
    "# Needed Libraries\n",
    "\n",
    "# vizualization\n",
    "%matplotlib inline\n",
    "import matplotlib.pyplot as plt \n",
    "import seaborn as sns\n",
    "plt.style.use('ggplot')\n",
    "\n",
    "# data manipulation\n",
    "import numpy as np \n",
    "import pandas as pd\n",
    "\n",
    "# Machine Learning\n",
    "import sklearn\n",
    "import sklearn.preprocessing\n",
    "from sklearn.model_selection import train_test_split \n",
    "from sklearn.svm import LinearSVC"
   ]
  },
  {
   "cell_type": "code",
   "execution_count": 3,
   "metadata": {},
   "outputs": [
    {
     "name": "stderr",
     "output_type": "stream",
     "text": [
      "/home/juansolo/venv/lib/python3.6/site-packages/ipykernel_launcher.py:10: SettingWithCopyWarning: \n",
      "A value is trying to be set on a copy of a slice from a DataFrame.\n",
      "Try using .loc[row_indexer,col_indexer] = value instead\n",
      "\n",
      "See the caveats in the documentation: http://pandas.pydata.org/pandas-docs/stable/user_guide/indexing.html#returning-a-view-versus-a-copy\n",
      "  # Remove the CWD from sys.path while we load stuff.\n"
     ]
    }
   ],
   "source": [
    "# Loading data for train and test sets from source\n",
    "vowels_train = pd.read_table(\"https://web.stanford.edu/~hastie/ElemStatLearn/datasets/vowel.train\",sep=\",\")\n",
    "vowels_test = pd.read_table(\"https://web.stanford.edu/~hastie/ElemStatLearn/datasets/vowel.test\",sep=\",\")\n",
    "\n",
    "# making a larger data set by combining train and test DFs to them split\n",
    "vowels = pd.concat([vowels_train,vowels_test])\n",
    "\n",
    "# selecting only those rows in column 'y' = [1,2,3] \n",
    "vowel_red = vowels.loc[vowels['y'].isin([1,2,3])]\n",
    "vowel_red['y'] = vowel_red['y'].replace({2: -1, 3: -1})\n",
    "\n",
    "# splitting into features [x's] and response [y's] \n",
    "x = pd.DataFrame(vowel_red.iloc[:,2:])\n",
    "y = pd.DataFrame(vowel_red.iloc[:,1])\n",
    "\n",
    "# setting values to then feed to train_test_split for train, test, validation sets\n",
    "X = x.values\n",
    "y = np.array(y).T[0]\n",
    "\n",
    "# Splitting sets from X and y to their train, validation, and test sets\n",
    "x_train, x_test, y_train, y_test = train_test_split(X, y, test_size=0.2, random_state=1)\n",
    "x_train, x_val, y_train, y_val = train_test_split(x_train, y_train, test_size=0.25, random_state=1) # 0.25 x 0.8 = 0.2\n",
    "\n",
    "\n",
    "# Standardize the data. \n",
    "scaler = sklearn.preprocessing.StandardScaler() \n",
    "scaler.fit(x_train)\n",
    "x_train = scaler.transform(x_train)\n",
    "x_val = scaler.transform(x_val)\n",
    "x_test = scaler.transform(x_test)\n",
    "\n",
    "# Keep track of the number of samples and dimension of each sample \n",
    "n_train = len(y_train) \n",
    "n_val = len(y_val)\n",
    "n_test = len(y_test) \n",
    "d = np.size(x_train, 1)"
   ]
  },
  {
   "cell_type": "markdown",
   "metadata": {},
   "source": [
    "### Exercise 1 \n",
    "#### Linear Support Vector Machine with Huberdize Hinge Loss Theory\n",
    "\n",
    "For a Linear SVM with Huberdize Hinge Loss we have the objective equation to minimize:\n",
    "\n",
    "\\begin{equation}\n",
    "\\min_{\\beta}F(\\beta) = \\lambda\\|\\beta\\|^2_2 + \\frac{\\rho}{n}\\sum_{i=1,y_i=+1}^n L_{hh}(y_i,x^T_i\\beta) + \\frac{1 - \\rho}{n}\\sum_{i=1,y_i=-1}^n L_{hh}(y_i,x^T_i\\beta) \n",
    "\\end{equation}\n",
    "\n",
    "where $L_{hh}$ is defined as:\n",
    "\n",
    "\n",
    "$$ L_{hh}(y,t)=   \\left\\{\n",
    "\\begin{array}{ll}\n",
    "      0 &  if\\ \\ yt>1 + h \\\\\n",
    "      \\frac{(1+h-yt)^2}{4h} & if\\ \\ |1-yt| \\leq h \\\\\n",
    "      1-yt & if\\ \\ yt < 1-h \\\\\n",
    "\\end{array} \n",
    "\\right.  $$\n",
    "\n",
    "The equation can be thought of as:\n",
    "\n",
    "\\begin{equation}\n",
    "\\min_{\\beta}F(\\beta) = \\lambda\\sum_{j=1}^d\\beta_j^2 + \\frac{1}{n}(\\ \\rho \\sum_{i=1,y_i=+1}^n L_{hh}(y_i,\\sum_{j=1}^dx_j\\beta_j) + \\ (1-\\rho)\\sum_{i=1,y_i=-1}^n L_{hh}(y_i,\\sum_{j=1}^dx_j\\beta_j))\n",
    "\\end{equation}\n",
    "\n",
    "Using the machine learning convention for the labels that is $y_i\\ \\in$ {−1, +1}\n",
    "\n",
    "Assuming features ($d=1$) and samples ($n=1$), we can compute the $\\nabla F$ as follows:\n",
    "\n",
    "\n",
    "Using the machine learning convention for the labels that is $y_i\\ \\in$ {−1, +1}\n",
    "\n",
    "Assuming $d=1$ and $n=1$, we can compute the $\\nabla F$ as follows:\n",
    "\n",
    "\\begin{equation}\n",
    "F(\\beta) = \\lambda\\beta^2 + \\frac{1}{n}L_{hh}(y,x\\beta)(\\rho + (1 - \\rho)) \\\\\n",
    "\\end{equation}\n",
    "\n",
    "where we would take the derivative of $L_{hh}$ with respect to $\\beta$, giving us:\n",
    "\n",
    "$$ \\\\ \\frac{\\partial}{\\partial\\beta}L_{hh}(y,x\\beta)=   \\left\\{\n",
    "\\begin{array}{ll}\n",
    "      0 &  if\\ \\ yt>1 + h \\\\\n",
    "      \\frac{-yx(1+h-yx\\beta)}{2h} & if\\ \\ |1-yt| \\leq h \\\\\n",
    "      -yx & if\\ \\ yt < 1-h \\\\\n",
    "\\end{array} \n",
    "\\right.  $$\n",
    "\n",
    "where $t=x\\beta$ \n",
    "\n",
    "so we can rewrite the equation for the gradient $\\nabla F$ as:\n",
    "\n",
    "\\begin{equation}\n",
    "\\Rightarrow \\frac{\\partial F}{\\partial \\beta} =2\\lambda\\beta - xy \\frac{1}{n}\\ \\frac{\\partial}{\\partial\\beta}( L_{hh}(y,x\\beta))(\\rho + (1 - \\rho))\\\\\n",
    "\\end{equation}\n",
    "\n",
    "and we can write in terms of matrix vectorization as:\n",
    "\n",
    "\\begin{equation}\n",
    "\\\\ \\nabla F(\\beta) = 2\\lambda\\beta - x^Ty \\frac{1}{n}\\ \\frac{\\partial}{\\partial\\beta}( L_{hh}(y,x^T\\beta))(\\rho + (1 - \\rho))\\\\\n",
    "\\end{equation}\n",
    "\n",
    "where we have $\\rho$ for $y_i=+1$ and $1-\\rho$ for $y_i=-1$.\n",
    "\n",
    "##### Function Definitions"
   ]
  },
  {
   "cell_type": "code",
   "execution_count": 4,
   "metadata": {},
   "outputs": [],
   "source": [
    "def Lhh(y,t,h_0 = 0.5):\n",
    "    \"\"\"\n",
    "    Calculates the piecewise function for the Huberdize Hinge Loss\n",
    "    \n",
    "    parameters:\n",
    "    ------------\n",
    "    y: response variables in the form of numpy.array\n",
    "    \n",
    "    t: numpy.array of the dot product between preditor variables and weights\n",
    "    \n",
    "    h_0: (optional) Value for the piecewise selection, default to 0.5\n",
    "    \n",
    "    \n",
    "    Returns:\n",
    "    ------------\n",
    "    an array of same size as y (the number of features n)\n",
    "    \"\"\"\n",
    "    yt = y*t\n",
    "\n",
    "    return np.piecewise(yt,\n",
    "                        [yt - 1> h_0, np.abs(1 - yt) <= h_0, 1 - yt > h_0], \n",
    "                        [0,lambda x: ((1 + h_0 - x)**2)/(4*h_0), lambda x: 1 - x])"
   ]
  },
  {
   "cell_type": "code",
   "execution_count": 5,
   "metadata": {},
   "outputs": [],
   "source": [
    "def dLhh_dt(y,X,b,h_0 = 0.5):\n",
    "    \"\"\"\n",
    "    calculates the derivative of the piecewise funtion for the Huberdize Hinge Loss\n",
    "    \n",
    "    Parameters:\n",
    "    -------------\n",
    "    y: response variables in the form of numpy.array\n",
    "    \n",
    "    X: numpy.array of preditor variables \n",
    "    \n",
    "    b: numpy.arry of the weights\n",
    "    \n",
    "    h_0: (optional) Value for the piecewise selection, default to 0.5\n",
    "    \n",
    "    \n",
    "    Returns:\n",
    "    ------------\n",
    "    an array of same size as y (the number of features n)\n",
    "    \"\"\"\n",
    "    yt = (X@b)*y\n",
    "    \n",
    "#     Follows the below logic for the piecewise function:\n",
    "#     -----------------------------------------------------\n",
    "#     if yt > 1 + h_0:\n",
    "#         return 0\n",
    "#     elif np.abs(1 - yt) <= h_0:\n",
    "#         return (X.T @ -y*(1 + h_0 - yt))/(2*h_0)\n",
    "#     else:\n",
    "#         return -X.T*y\n",
    "\n",
    "    return np.where(yt - 1> h_0, 0,\n",
    "                    np.where(np.abs(1 - yt) <= h_0,-1 * (1 + h_0 -yt)/(2*h_0),\n",
    "                             np.where(1 - yt > h_0,-1,float('inf'))))"
   ]
  },
  {
   "cell_type": "code",
   "execution_count": 6,
   "metadata": {},
   "outputs": [],
   "source": [
    "def Fx_LinearSVMHH(b,p_rho,lamda,X,y):\n",
    "    \"\"\"\n",
    "    Calculates the Objective function for the Linear SVM with Hubirdize Hinge Loss\n",
    "    \n",
    "    Parameters:\n",
    "    -------------\n",
    "    y: response variables in the form of numpy.array\n",
    "    \n",
    "    X: numpy.array of preditor variables \n",
    "    \n",
    "    b: numpy.arry of the weights\n",
    "    \n",
    "    p_rho: value for the inbalance parameter\n",
    "    \n",
    "    lamda: value for the regularization parameter\n",
    "    \n",
    "    \n",
    "    Returns:\n",
    "    ------------\n",
    "    a value for the objective function equal to the penalty + the sum of all Lhh piecewise functions for \n",
    "    each response variable\n",
    "    \"\"\"\n",
    "    \n",
    "    penalty = lamda * np.linalg.norm(b)**2\n",
    "    \n",
    "    lhh = np.piecewise(Lhh(y, X@b),[y == 1, y == -1],\n",
    "                       [lambda x: p_rho/len(y) * x,lambda x:(1-p_rho)/len(y) * x])\n",
    "    \n",
    "    return penalty + sum(lhh)"
   ]
  },
  {
   "cell_type": "code",
   "execution_count": 7,
   "metadata": {},
   "outputs": [],
   "source": [
    "def computegrad(b,p_rho,lamda,X,y):\n",
    "    \"\"\"\n",
    "    Computes the gradient of the Fx_LinearSVMHH function by calculating dLhh_dt for the provided imputs\n",
    "    \n",
    "    Parameters:\n",
    "    -------------\n",
    "    y: response variables in the form of numpy.array\n",
    "    \n",
    "    X: numpy.array of preditor variables \n",
    "    \n",
    "    b: numpy.arry of the weights\n",
    "    \n",
    "    p_rho: value for the inbalance parameter\n",
    "    \n",
    "    lamda: value for the regularization parameter\n",
    "    \n",
    "    \n",
    "    Returns:\n",
    "    ------------\n",
    "    the gradient for the given y,X,b \n",
    "    \"\"\"\n",
    "    \n",
    "    penalty = 2 * lamda * b \n",
    "    \n",
    "    dlhh = np.piecewise(dLhh_dt(y=y,X=X,b=b),[y == 1, y == -1],\n",
    "                       [lambda x: p_rho/len(y) * x,lambda x:(1-p_rho)/len(y) * x])\n",
    "    \n",
    "    return penalty + X.T@(y*dlhh)"
   ]
  },
  {
   "cell_type": "code",
   "execution_count": 8,
   "metadata": {},
   "outputs": [],
   "source": [
    "def backtracking(beta, lamda, rho, X, y, eta=1, alpha=0.5, betaparam=0.8, maxiter=100): \n",
    "    \"\"\"\n",
    "    Function for the backtracking algorigthm to be used in the gradient (fast gradient) descent\n",
    "    \n",
    "    Parameters:\n",
    "    -------------\n",
    "    y: response variables in the form of numpy.array\n",
    "    \n",
    "    X: numpy.array of preditor variables \n",
    "    \n",
    "    beta: numpy.arry of the weights\n",
    "    \n",
    "    rho: value for the inbalance parameter\n",
    "    \n",
    "    lamda: value for the regularization parameter\n",
    "    \n",
    "    eta: (optional)\n",
    "    \n",
    "    alpha: (optional)\n",
    "    \n",
    "    betaparam: (optional) \n",
    "    \n",
    "    maxiter: (optional)\n",
    "    \n",
    "    \n",
    "    Returns:\n",
    "    ------------\n",
    "    eta: updated value of eta \n",
    "    \"\"\"\n",
    "    grad_beta = computegrad(b=beta, p_rho=rho,lamda=lamda, X=X, y=y ) \n",
    "    norm_grad_beta = np.linalg.norm(grad_beta) \n",
    "    found_eta = 0 \n",
    "    num_iters = 0 \n",
    "    while found_eta == 0 and num_iters < maxiter: \n",
    "        if Fx_LinearSVMHH(beta - eta * grad_beta,p_rho=rho,lamda=lamda,X=X,y=y) <  Fx_LinearSVMHH(beta, p_rho=rho, lamda=lamda, X=X, y=y) - alpha * eta * norm_grad_beta ** 2: \n",
    "            found_eta = 1 \n",
    "        elif num_iters == maxiter: \n",
    "            raise ('Max number of iterations of backtracking line search reached') \n",
    "        else: \n",
    "            eta *= betaparam \n",
    "            num_iters += 1 \n",
    "        \n",
    "    return eta"
   ]
  },
  {
   "cell_type": "code",
   "execution_count": 9,
   "metadata": {},
   "outputs": [],
   "source": [
    "def mylinearsvm(X,y,rho,epsilon,lamda):\n",
    "    \"\"\"\n",
    "    Function for the fast gradient descent for the SVM algorithm\n",
    "    \n",
    "    Parameters:\n",
    "    -------------\n",
    "    y: response variables in the form of numpy.array\n",
    "    \n",
    "    X: numpy.array of preditor variables \n",
    "    \n",
    "    epsilon: optimization accuracy\n",
    "    \n",
    "    rho: value for the inbalance parameter\n",
    "    \n",
    "    lamda: value for the regularization parameter\n",
    "    \n",
    "    \n",
    "    Returns:\n",
    "    ------------\n",
    "    arrays for the weights (beta_vals), gradient (grad_vals), and objective function values (fx_vals)\n",
    "    \"\"\"\n",
    "    \n",
    "    L = (np.max(np.linalg.eig(1/len(y)*X.T@X)[0])) + lamda\n",
    "    eta_l = 1/L\n",
    "    beta = np.zeros(X.shape[1])\n",
    "    theta = np.zeros(X.shape[1])\n",
    "    \n",
    "    grad_theta = computegrad(theta,p_rho=rho,lamda=lamda,X=X,y=y) \n",
    "    grad_beta = computegrad(beta,p_rho=rho,lamda=lamda,X=X,y=y)\n",
    "    fx = Fx_LinearSVMHH(b=beta,p_rho=rho,lamda=lamda,X=X,y=y)\n",
    "    \n",
    "    fx_vals = [fx]\n",
    "    beta_vals = beta\n",
    "    theta_vals = theta\n",
    "    grad_vals = [grad_beta]\n",
    "    fx_vals = [fx]\n",
    "    num_iters = 0\n",
    "    while np.linalg.norm(grad_beta) > epsilon:\n",
    "        eta_l = backtracking(beta=beta, lamda = lamda, rho=rho, X=X, y=y, eta=eta_l, alpha=0.5, betaparam=0.8, maxiter=100)\n",
    "        beta_new = theta - eta_l * grad_theta\n",
    "        theta = beta_new + (num_iters/(num_iters+3)) * (beta_new - beta)\n",
    "        \n",
    "        beta_vals = np.vstack((beta_vals, beta))\n",
    "        theta_vals = np.vstack((theta_vals, theta))\n",
    "        \n",
    "        grad_theta = computegrad(theta,p_rho=rho,lamda=lamda,X=X,y=y)\n",
    "        grad_beta = computegrad(beta,p_rho=rho,lamda=lamda,X=X,y=y)\n",
    "        \n",
    "        beta = beta_new\n",
    "        num_iters += 1\n",
    "        \n",
    "        grad_vals.append(grad_beta)\n",
    "        fx = Fx_LinearSVMHH(b=beta,p_rho=rho,lamda=lamda,X=X,y=y)\n",
    "        fx_vals.append(fx)\n",
    "        \n",
    "    return [beta_vals,grad_vals,fx_vals]\n"
   ]
  },
  {
   "cell_type": "code",
   "execution_count": 10,
   "metadata": {},
   "outputs": [],
   "source": [
    "def compute_misclassification_error(b, X, y): \n",
    "    \"\"\"\n",
    "    Computes the missclassification error of the SVM for the calculated weights from the fast gradient descent\n",
    "    \n",
    "    Parameters:\n",
    "    -------------\n",
    "    y: response variables in the form of numpy.array\n",
    "    \n",
    "    X: numpy.array of preditor variables \n",
    "    \n",
    "    b: numpy.arry of the weights\n",
    "    \n",
    "    \n",
    "    Returns:\n",
    "    -------------\n",
    "    The missclassification value of y_pred != y_actual\n",
    "    \"\"\"\n",
    "    y_hat =  X @ b\n",
    "    y_pred = np.piecewise(y_hat,[y_hat >= 0, y_hat <0],[lambda x: 1, lambda x: -1])\n",
    "    return np.mean(y_pred != y)"
   ]
  },
  {
   "cell_type": "markdown",
   "metadata": {},
   "source": [
    "- Train your linear support vector machine with the huberized hinge loss on the the\n",
    "Vowel dataset for $\\lambda$ = 1 and $\\rho$ = 1. Report the misclassification error for these hyperparameter values. Report the sensitivity and the specificity for these hyperparameter\n",
    "values"
   ]
  },
  {
   "cell_type": "code",
   "execution_count": 12,
   "metadata": {},
   "outputs": [
    {
     "name": "stdout",
     "output_type": "stream",
     "text": [
      "My Betas: [-0.0794309  -0.10958102  0.05048789  0.08989048  0.03426658  0.05809781\n",
      "  0.00762705 -0.01965592 -0.02614803 -0.02866649]\n",
      "My Fx vals: 0.2740737787435712\n",
      "\n",
      "Misclasification Error:  0.3148148148148148\n"
     ]
    }
   ],
   "source": [
    "betas_tr, grad_tr, fx_val_tr = mylinearsvm(X=x_train, y=y_train, rho=1, epsilon=5.1**-3, lamda=1)\n",
    "\n",
    "print('My Betas:', betas_tr[-1])\n",
    "print('My Fx vals:', fx_val_tr[-1])\n",
    "\n",
    "\n",
    "clasification_err = compute_misclassification_error(b=betas_tr[-1],X=x_val,y=y_val)\n",
    "print('\\nMisclasification Error: ', clasification_err)"
   ]
  },
  {
   "cell_type": "markdown",
   "metadata": {},
   "source": [
    "- Train your linear support vector machine with the huberized hinge loss on the the\n",
    "Vowel dataset for $\\lambda$ = 1 and $\\rho$ = 0.1, 0.2, . . . , 0.9, 1.0. Plot the misclassification error\n",
    "vs. the imbalance parameter $\\rho$. Plot on the same figure yet with different colors the\n",
    "sensitivity and the specificity vs. the imbalance parameter $\\rho$"
   ]
  },
  {
   "cell_type": "code",
   "execution_count": 13,
   "metadata": {},
   "outputs": [],
   "source": [
    "def y_pred(X,b, threshold=0):\n",
    "    \"\"\"\n",
    "    Calculates Predicted y_hat values for the given X predictor variables and b weights\n",
    "    \"\"\"\n",
    "    y_hat = (X @ b)\n",
    "    y_pred = np.piecewise(y_hat,[y_hat >= threshold, y_hat <threshold],[lambda x: 1, lambda x: -1])\n",
    "    \n",
    "    return y_pred"
   ]
  },
  {
   "cell_type": "markdown",
   "metadata": {},
   "source": [
    "An ROC curve plots the true positive rate vs. the false positive rate as the threshold is varied. Here we have\n",
    "$$ \\text{True positive rate} = \\text{Recall} = \\frac{\\text{# True positives}}{\\text{# True positives + # False negatives}} $$\n",
    "and\n",
    "$$ \\text{False positive rate} = \\frac{\\text{# False positives}}{\\text{# False positives + # True negatives}}. $$\n",
    "\n",
    "$$ \\text{Sensitivity} = \\text{True positive rate} = \\text{Recall} = \\frac{\\text{# True positives}}{\\text{# True positives + # False negatives}} $$\n",
    "and\n",
    "$$ \\text{Specificity} = \\text{True negative rate} = \\frac{\\text{# True negatives}}{\\text{# True negatives + # False positives}}. $$"
   ]
  },
  {
   "cell_type": "code",
   "execution_count": 14,
   "metadata": {},
   "outputs": [],
   "source": [
    "def Calc_Sensitivity_Specificity(X, y_actual, b, threshold=0):\n",
    "    \"\"\"\n",
    "    Calculates Sensitivity and Specificity for the predicted y_hat values from\n",
    "    the provided X predictor variables and b weights compared to the y_actual\n",
    "    \"\"\"\n",
    "    yhat = y_pred(X=X,b=b, threshold=threshold)\n",
    "    \n",
    "    TP = np.sum(yhat[yhat == 1] == y_actual[yhat==1])\n",
    "    TN = np.sum(yhat[yhat == -1] == y_actual[yhat==-1])\n",
    "    FP = np.sum(yhat[yhat == 1] != y_actual[yhat==1])\n",
    "    FN = np.sum(yhat[yhat == -1] != y_actual[yhat==-1])\n",
    "\n",
    "    sensitivity = TP/(TP+FN) \n",
    "    specificity = TN/(TN+FP)\n",
    "    TPR = TP/(TP+FN)\n",
    "    FPR = FP/(FP+TN)\n",
    "    \n",
    "    return [sensitivity, specificity,TPR,FPR]"
   ]
  },
  {
   "cell_type": "code",
   "execution_count": 17,
   "metadata": {},
   "outputs": [],
   "source": [
    "def plot_misclassification_error(X_train, y_train, X_test, y_test, lamda,rhos,save_file='',title=''):\n",
    "    beta_vals=[]\n",
    "    errors = []\n",
    "    sens_val = []\n",
    "    spes_val = []\n",
    "    for rho in rhos:\n",
    "        betas, grads, fx_val = mylinearsvm(X=X_train, y=y_train, rho=rho, epsilon=5.1**-3, lamda=lamda)\n",
    "        beta_vals.append(betas[-1])\n",
    "        error = compute_misclassification_error(b=betas[-1],X=X_test,y=y_test)\n",
    "        errors.append(error)\n",
    "        sensitivity, specificity , tpr, fpr= Calc_Sensitivity_Specificity(X=X_test, y_actual=y_test,b=betas[-1])\n",
    "        sens_val.append(sensitivity)\n",
    "        spes_val.append(specificity)\n",
    "    fig, ax = plt.subplots()  \n",
    "    ax.plot(rhos, errors, label='Error')\n",
    "    ax.plot(rhos, spes_val, c='blue', label='Specificity')\n",
    "    ax.plot(rhos, sens_val, c='green', label='Sensitivity')\n",
    "    ax.legend(loc='upper right')\n",
    "    plt.xlabel(r'$\\rho$ values')\n",
    "    plt.ylabel('Misclassification, Specificity, Sensitivity')\n",
    "    plt.title(title)\n",
    "    plt.show()"
   ]
  },
  {
   "cell_type": "code",
   "execution_count": 19,
   "metadata": {},
   "outputs": [
    {
     "data": {
      "image/png": "[encoded data removed]",
      "text/plain": [
       "<Figure size 432x288 with 1 Axes>"
      ]
     },
     "metadata": {},
     "output_type": "display_data"
    },
    {
     "data": {
      "image/png": "[encoded data removed]",
      "text/plain": [
       "<Figure size 432x288 with 1 Axes>"
      ]
     },
     "metadata": {},
     "output_type": "display_data"
    }
   ],
   "source": [
    "rhos=np.arange(1,11)/10\n",
    "plot_misclassification_error(X_train=x_train, y_train=y_train,\n",
    "                            X_test=x_val, y_test=y_val, lamda=1,rhos=rhos,title=r'With $\\lambda=1$')\n",
    "plot_misclassification_error(X_train=x_train, y_train=y_train,\n",
    "                            X_test=x_val, y_test=y_val, lamda=.5,rhos=rhos,title=r'With $\\lambda=0.5$')\n"
   ]
  },
  {
   "cell_type": "code",
   "execution_count": 21,
   "metadata": {},
   "outputs": [],
   "source": [
    "def ROC_curve(X, y, b, threshold=np.arange(-1.0,1.1,.1)):\n",
    "    tpr_v = []\n",
    "    fpr_v = []\n",
    "    for i in threshold:\n",
    "        sensitivity, specificity, tpr, fpr = Calc_Sensitivity_Specificity(X=X, y_actual=y,b=b,threshold=i)\n",
    "        tpr_v.append(tpr)\n",
    "        fpr_v.append(fpr)\n",
    "        \n",
    "    plt.xlabel('False Positive Rate (1 - Specificity)')\n",
    "    plt.ylabel('True Positive Rate (Sensitivity)')\n",
    "    plt.plot(fpr_v,tpr_v)"
   ]
  },
  {
   "cell_type": "markdown",
   "metadata": {},
   "source": [
    "- Select the best value of the pair $\\lambda$ and $\\rho$ on a grid of values of your choice in terms\n",
    "of area under the sensitivity/(1-specificity) curve obtained from the validation set.\n",
    "Compute the sensitivity and the specificity on the testing set for the best values found\n",
    "for the pair $\\lambda$ and $\\rho$"
   ]
  },
  {
   "cell_type": "code",
   "execution_count": 22,
   "metadata": {},
   "outputs": [
    {
     "data": {
      "image/png": "[encoded data removed]",
      "text/plain": [
       "<Figure size 432x288 with 1 Axes>"
      ]
     },
     "metadata": {},
     "output_type": "display_data"
    }
   ],
   "source": [
    "ROC_curve(X=x_val, y=y_val, b=betas_tr[-1])"
   ]
  },
  {
   "cell_type": "code",
   "execution_count": 25,
   "metadata": {},
   "outputs": [
    {
     "name": "stdout",
     "output_type": "stream",
     "text": [
      "Sensitivity:  0.9090909090909091 \n",
      "Specificity:  0.71875\n",
      "\n",
      "Misclasification Error:  0.24074074074074073\n"
     ]
    }
   ],
   "source": [
    "betas_val, grad_val, fx_val_val = mylinearsvm(X=x_train, y=y_train, rho=.8, epsilon=5.1**-3, lamda=.5)\n",
    "\n",
    "sensitivity, specificity,TPR,FPR = Calc_Sensitivity_Specificity(X=x_test, y_actual=y_test, b=betas_val[-1])\n",
    "\n",
    "print(\"Sensitivity: \", sensitivity ,\"\\nSpecificity: \",specificity)\n",
    "\n",
    "\n",
    "clasification_err_test = compute_misclassification_error(b=betas_tr[-1],X=x_test,y=y_test)\n",
    "print('\\nMisclasification Error: ', clasification_err_test)"
   ]
  },
  {
   "cell_type": "code",
   "execution_count": 26,
   "metadata": {},
   "outputs": [
    {
     "data": {
      "image/png": "[encoded data removed]",
      "text/plain": [
       "<Figure size 432x288 with 1 Axes>"
      ]
     },
     "metadata": {},
     "output_type": "display_data"
    }
   ],
   "source": [
    "ROC_curve(X=x_val, y=y_val, b=betas_val[-1])"
   ]
  },
  {
   "cell_type": "markdown",
   "metadata": {},
   "source": [
    "### Exercise 2\n",
    "\n",
    "*In this exercise, you are facing several challenging situations and you are asked to suggest\n",
    "effective strategies to tackle them, based on your knowledge in statistical machine learning\n",
    "and data science in general. Please answer the questions for each situation in a few lines.\n",
    "Please feel free to write equations or draw figures if it helps.*\n",
    "\n",
    "##### *Linear regression insomnia.* Alex is Bobbie’s manager. Alex is a workaholic and Bobbie suffers from insomnia. Bobbie wants to design a deep network to predict the covid-19 pandemic evolution. At 3am, Bobbie receives a text from Alex asking her to log in her computer for a zoom meeting. Alex wants Bobbie to design, implement, run, and validate a linear regression model on a dataset. Bobbie has 2hrs to deliver the model and the predictions to Alex. Tyler adamantly forbids Frankie to use any off-the-shelf package because of IP concerns. Bobbie calls you through zoom and asks for your advice regarding the best optimization algorithm to use in this case, since you took DATA 558 at UW. Which optimization algorithm do you advise your friend Bobbie to use? Explain why\n",
    "\n",
    "Due to the fact that we Bobbie is trying to predict the covid-19 pandemic evolution in 2 hours, I would suggest an algorithm with the use of fast gradient descent and a loglikelihood loss function given the fact that covid-19 is a virus and grows at an exponential rate.\n",
    "\n",
    "\n",
    "##### *The next big thing.* Joey is a colleague of yours. Joey has been working with Tyler on a binary classification task for a particular real-world problem. Joey and Tyler have collected a dataset to work on this classification task. Joey sends you a zoom meeting request. While his kid is jumping on his lap, he claims he has just revolutionized machine learning. You ask him to tell you more. Joey says his method manages to predict perfectly on the test set. A striking feature of Joey’s revolutionary approach is to use the test set (examples and labels) at training time. Joey says he did some research and apparently no one has ever applied this strategy in research papers or books. What do you think about Joey’s revolutionary approach? How much would you invest in Joey’s new company?\n",
    "\n",
    "From the description of Joey's approach, it sounds like his model is experiencing *data leakage*. This means that there information other than the training set, in this case the test set, contaminating the data pool as it will cause the model overfit and not be generalize enough to handle new data once it comes in. Joey can not compare how well his model does vs the test set as he no longer as an unbiased test set that the model has not seen, hense I would invest in Joey's company but likely sell the stocks quickly once I make a quick profit as it is likely to fail."
   ]
  }
 ],
 "metadata": {
  "kernelspec": {
   "display_name": "Python 3",
   "language": "python",
   "name": "python3"
  },
  "language_info": {
   "codemirror_mode": {
    "name": "ipython",
    "version": 3
   },
   "file_extension": ".py",
   "mimetype": "text/x-python",
   "name": "python",
   "nbconvert_exporter": "python",
   "pygments_lexer": "ipython3",
   "version": "3.6.9"
  }
 },
 "nbformat": 4,
 "nbformat_minor": 2
}
